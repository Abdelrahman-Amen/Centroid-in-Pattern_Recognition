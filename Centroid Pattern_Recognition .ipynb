{
  "nbformat": 4,
  "nbformat_minor": 0,
  "metadata": {
    "colab": {
      "provenance": []
    },
    "kernelspec": {
      "name": "python3",
      "display_name": "Python 3"
    },
    "language_info": {
      "name": "python"
    }
  },
  "cells": [
    {
      "cell_type": "markdown",
      "source": [
        "# Import Libraries"
      ],
      "metadata": {
        "id": "rC5N_41gLRE6"
      }
    },
    {
      "cell_type": "code",
      "source": [
        "import numpy as np\n",
        "from tensorflow import keras\n",
        "from keras.datasets import mnist\n",
        "from sklearn.model_selection import train_test_split\n",
        "from sklearn.ensemble import RandomForestClassifier\n",
        "from sklearn.tree import DecisionTreeClassifier\n",
        "from sklearn.metrics import accuracy_score"
      ],
      "metadata": {
        "id": "oa6jp7dDTm4n"
      },
      "execution_count": 1,
      "outputs": []
    },
    {
      "cell_type": "markdown",
      "source": [
        "#Load Data"
      ],
      "metadata": {
        "id": "HKBewrH-LT0b"
      }
    },
    {
      "cell_type": "code",
      "source": [
        "# Load MNIST dataset\n",
        "(train_images, train_labels), (test_images, test_labels) = mnist.load_data()"
      ],
      "metadata": {
        "colab": {
          "base_uri": "https://localhost:8080/"
        },
        "id": "cQohksmHTm71",
        "outputId": "34e0e410-6aee-4836-cc2e-990e31264877"
      },
      "execution_count": 2,
      "outputs": [
        {
          "output_type": "stream",
          "name": "stdout",
          "text": [
            "Downloading data from https://storage.googleapis.com/tensorflow/tf-keras-datasets/mnist.npz\n",
            "11490434/11490434 [==============================] - 0s 0us/step\n"
          ]
        }
      ]
    },
    {
      "cell_type": "markdown",
      "source": [
        "#Concatenate Train and Test"
      ],
      "metadata": {
        "id": "bI_UtS9zLYu6"
      }
    },
    {
      "cell_type": "code",
      "source": [
        "# Concatenate images and labels\n",
        "images = np.concatenate((train_images, test_images), axis=0)\n",
        "labels = np.concatenate((train_labels, test_labels), axis=0)\n",
        "\n",
        "\n",
        "# Print the shape of the resulting sets\n",
        "print(\"Train images shape:\", train_images.shape)\n",
        "print(\"Train labels shape:\", train_labels.shape)\n",
        "print(\"Test images shape:\", test_images.shape)\n",
        "print(\"Test labels shape:\", test_labels.shape)"
      ],
      "metadata": {
        "colab": {
          "base_uri": "https://localhost:8080/"
        },
        "id": "8vGE7CzF784c",
        "outputId": "9db6f928-e9d0-4cf9-ebe1-39fcddab9769"
      },
      "execution_count": 3,
      "outputs": [
        {
          "output_type": "stream",
          "name": "stdout",
          "text": [
            "Train images shape: (60000, 28, 28)\n",
            "Train labels shape: (60000,)\n",
            "Test images shape: (10000, 28, 28)\n",
            "Test labels shape: (10000,)\n"
          ]
        }
      ]
    },
    {
      "cell_type": "code",
      "source": [
        "images=images/255"
      ],
      "metadata": {
        "id": "qZ75APoFQDju"
      },
      "execution_count": 4,
      "outputs": []
    },
    {
      "cell_type": "code",
      "source": [
        "# Define the number of rows and columns for the grid\n",
        "rows = int(input(\"enter rows:\"))\n",
        "cols = int(input(\"enter columns:\"))"
      ],
      "metadata": {
        "id": "1LW9Psn3Tm_H",
        "colab": {
          "base_uri": "https://localhost:8080/"
        },
        "outputId": "3207b505-2165-42a9-b2bc-d3de1a885b3b"
      },
      "execution_count": 5,
      "outputs": [
        {
          "name": "stdout",
          "output_type": "stream",
          "text": [
            "enter rows:3\n",
            "enter columns:3\n"
          ]
        }
      ]
    },
    {
      "cell_type": "code",
      "source": [
        "# Get the dimensions of the images\n",
        "height, width = images.shape[1:]\n",
        "height, width"
      ],
      "metadata": {
        "colab": {
          "base_uri": "https://localhost:8080/"
        },
        "id": "Ki1I7DDHTnCZ",
        "outputId": "74dd0c22-42e7-4686-f246-672597e300f0"
      },
      "execution_count": 6,
      "outputs": [
        {
          "output_type": "execute_result",
          "data": {
            "text/plain": [
              "(28, 28)"
            ]
          },
          "metadata": {},
          "execution_count": 6
        }
      ]
    },
    {
      "cell_type": "code",
      "source": [
        "# Calculate the size of each grid cell\n",
        "grid_height = height // rows\n",
        "grid_width = width // cols"
      ],
      "metadata": {
        "id": "M9eLbTSoTnE4"
      },
      "execution_count": 7,
      "outputs": []
    },
    {
      "cell_type": "markdown",
      "source": [
        "#Centroid Function"
      ],
      "metadata": {
        "id": "_DiIfUIjLhk5"
      }
    },
    {
      "cell_type": "code",
      "source": [
        "import numpy as np\n",
        "\n",
        "def extract_features(image, rows, cols):\n",
        "    features = []\n",
        "    grid_height = image.shape[0] // rows\n",
        "    grid_width = image.shape[1] // cols\n",
        "\n",
        "    for i in range(rows):\n",
        "        for j in range(cols):\n",
        "            # Calculate coordinates for the current grid cell\n",
        "            x1 = i * grid_height\n",
        "            x2 = x1 + grid_height\n",
        "            y1 = j * grid_width\n",
        "            y2 = y1 + grid_width\n",
        "\n",
        "            # Extract the sub-image (grid cell) from the original image\n",
        "            grid_cell = image[x1:x2, y1:y2]\n",
        "\n",
        "            # Calculate the centroid coordinates for the grid cell\n",
        "            sum_f = np.sum(grid_cell)\n",
        "            rowss, columns = grid_cell.shape\n",
        "            x_bar = np.sum(np.array([[x] * rowss for x in range(rowss)]) * grid_cell) / sum_f if sum_f != 0 else 0\n",
        "            y_bar = np.sum(np.array([[y] * columns for y in range(columns)]) * grid_cell) / sum_f if sum_f != 0 else 0\n",
        "            # print(x_bar)\n",
        "\n",
        "            # Store the centroid coordinates as features for this grid cell\n",
        "            features.append(x_bar)\n",
        "            features.append(y_bar)\n",
        "    return features"
      ],
      "metadata": {
        "id": "2mj282qGhFkO"
      },
      "execution_count": 8,
      "outputs": []
    },
    {
      "cell_type": "markdown",
      "source": [
        "# Extract features"
      ],
      "metadata": {
        "id": "xEbJlIFgLoWE"
      }
    },
    {
      "cell_type": "code",
      "source": [
        "# Extract features for all images\n",
        "X_images = np.array([extract_features(image,rows,cols) for image in images])"
      ],
      "metadata": {
        "id": "bMcq_WUPTnKK"
      },
      "execution_count": 9,
      "outputs": []
    },
    {
      "cell_type": "code",
      "source": [
        "X_images.shape"
      ],
      "metadata": {
        "colab": {
          "base_uri": "https://localhost:8080/"
        },
        "id": "Ev3xcmdeWlhS",
        "outputId": "155a7391-7f0e-47e8-db30-e62ee5146a25"
      },
      "execution_count": 10,
      "outputs": [
        {
          "output_type": "execute_result",
          "data": {
            "text/plain": [
              "(70000, 18)"
            ]
          },
          "metadata": {},
          "execution_count": 10
        }
      ]
    },
    {
      "cell_type": "code",
      "source": [
        "# Split data into train and test sets\n",
        "train_images, test_images, train_labels, test_labels = train_test_split(X_images, labels, test_size=0.20, random_state=42)"
      ],
      "metadata": {
        "id": "F-71viCA8EMg"
      },
      "execution_count": 11,
      "outputs": []
    },
    {
      "cell_type": "markdown",
      "source": [
        "#DecisionTreeClassifier"
      ],
      "metadata": {
        "id": "HLQ6EE9ZLyeS"
      }
    },
    {
      "cell_type": "code",
      "source": [
        "from sklearn.tree import DecisionTreeClassifier\n",
        "DecisionTreeClassifierModel = DecisionTreeClassifier()\n",
        "\n",
        "DecisionTreeClassifierModel.fit(train_images, train_labels)\n",
        "# Predict on the test set\n",
        "y_test_pred = DecisionTreeClassifierModel.predict(test_images)\n",
        "\n",
        "# Calculate accuracy on test set\n",
        "test_accuracy = accuracy_score(test_labels, y_test_pred)\n",
        "print(\"Test Accuracy:\", test_accuracy)"
      ],
      "metadata": {
        "colab": {
          "base_uri": "https://localhost:8080/"
        },
        "id": "tpWnznYd-QLZ",
        "outputId": "b60b0087-5acd-4a13-c31b-7c5573c5d54c"
      },
      "execution_count": 12,
      "outputs": [
        {
          "output_type": "stream",
          "name": "stdout",
          "text": [
            "Test Accuracy: 0.7775714285714286\n"
          ]
        }
      ]
    },
    {
      "cell_type": "markdown",
      "source": [
        "#RandomForestClassifier"
      ],
      "metadata": {
        "id": "d31zqN4NLwh_"
      }
    },
    {
      "cell_type": "code",
      "source": [
        "# Train a classifier\n",
        "clf = RandomForestClassifier(n_estimators=100, random_state=42)\n",
        "clf.fit(train_images, train_labels)\n",
        "\n",
        "\n",
        "# Predict on the test set\n",
        "y_test_pred = clf.predict(test_images)\n",
        "\n",
        "# Calculate accuracy on test set\n",
        "test_accuracy = accuracy_score(test_labels, y_test_pred)\n",
        "print(\"Test Accuracy:\", test_accuracy)"
      ],
      "metadata": {
        "colab": {
          "base_uri": "https://localhost:8080/"
        },
        "id": "FonqX76VVLsZ",
        "outputId": "ea7a6113-96d8-49be-ebde-22dbd18d0d5f"
      },
      "execution_count": 13,
      "outputs": [
        {
          "output_type": "stream",
          "name": "stdout",
          "text": [
            "Test Accuracy: 0.8659285714285714\n"
          ]
        }
      ]
    }
  ]
}